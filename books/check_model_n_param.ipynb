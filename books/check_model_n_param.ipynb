{
 "cells": [
  {
   "cell_type": "code",
   "execution_count": 9,
   "metadata": {},
   "outputs": [],
   "source": [
    "import torch\n",
    "import torchvision.models as models\n",
    "import numpy as np"
   ]
  },
  {
   "cell_type": "code",
   "execution_count": 38,
   "metadata": {},
   "outputs": [],
   "source": [
    "resnet18    = models.resnet18(pretrained=True)\n",
    "alexnet     = models.alexnet(pretrained=True)\n",
    "squeezenet  = models.squeezenet1_0(pretrained=True)\n",
    "squeezenet1 = models.squeezenet1_1(pretrained=True)\n",
    "densenet    = models.densenet161(pretrained=True)\n",
    "inception   = models.inception_v3(pretrained=True)\n",
    "googlenet   = models.googlenet(pretrained=True)\n",
    "shufflenet  = models.shufflenet_v2_x1_0(pretrained=True)\n",
    "mobilenet   = models.mobilenet_v2(pretrained=True)\n",
    "mnasnet     = models.mnasnet1_0(pretrained=True)\n",
    "\n",
    "model_list  = [resnet18, alexnet, squeezenet, squeezenet1, densenet, inception, googlenet, shufflenet, mobilenet, mnasnet]"
   ]
  },
  {
   "cell_type": "code",
   "execution_count": 39,
   "metadata": {},
   "outputs": [],
   "source": [
    "def sortKey(param):\n",
    "    return param[1]"
   ]
  },
  {
   "cell_type": "code",
   "execution_count": 40,
   "metadata": {},
   "outputs": [
    {
     "name": "stdout",
     "output_type": "stream",
     "text": [
      "[['SqueezeNet', 1235496], ['SqueezeNet', 1248424], ['ShuffleNetV2', 2278604], ['MobileNetV2', 3504872], ['MNASNet', 4383312], ['GoogLeNet', 6624904], ['ResNet', 11689512], ['Inception3', 27161264], ['DenseNet', 28681000], ['AlexNet', 61100840]]\n"
     ]
    }
   ],
   "source": [
    "model_nweight = []\n",
    "for model in model_list:\n",
    "    model_parameters = filter(lambda p: p.requires_grad, model.parameters())\n",
    "    params = sum([np.prod(p.size()) for p in model_parameters]);\n",
    "    model_nweight.append([model.__class__.__name__, params])\n",
    "model_nweight = sorted(model_nweight, key=sortKey)\n",
    "print(model_nweight)"
   ]
  },
  {
   "cell_type": "code",
   "execution_count": 97,
   "metadata": {},
   "outputs": [
    {
     "data": {
      "text/plain": [
       "torch.Size([1, 25088])"
      ]
     },
     "execution_count": 97,
     "metadata": {},
     "output_type": "execute_result"
    }
   ],
   "source": [
    "model = models.squeezenet1_1(pretrained=True).features \n",
    "input = torch.ones([1,3, 128, 128])\n",
    "\n",
    "model(input).reshape(1,-1).shape"
   ]
  }
 ],
 "metadata": {
  "kernelspec": {
   "display_name": "dl",
   "language": "python",
   "name": "dl"
  },
  "language_info": {
   "codemirror_mode": {
    "name": "ipython",
    "version": 3
   },
   "file_extension": ".py",
   "mimetype": "text/x-python",
   "name": "python",
   "nbconvert_exporter": "python",
   "pygments_lexer": "ipython3",
   "version": "3.6.7"
  }
 },
 "nbformat": 4,
 "nbformat_minor": 2
}
